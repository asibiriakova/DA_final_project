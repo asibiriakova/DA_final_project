{
 "cells": [
  {
   "cell_type": "markdown",
   "metadata": {},
   "source": [
    "# Финальный проект: вариант 2\n",
    "## Задание 3. Python and Airflow\n",
    "##  Anastasiia Sibiriakova (a_sibiriakova)\n",
    "###  Поток 15.08"
   ]
  },
  {
   "cell_type": "markdown",
   "metadata": {},
   "source": [
    "***"
   ]
  },
  {
   "cell_type": "markdown",
   "metadata": {},
   "source": [
    "##  Airflow\n",
    "Для автоматизации процесса создала Dag в Airflow, для загрузки обновлений и отправки обновленных графиков через бот-телеграм\n",
    "\n",
    "\n",
    "#### gitlab file\n",
    "https://git.lab.karpov.courses/lab/airflow/-/blob/master/dags/a-sibiriakova/Variant_2_Task_3_Python_and_Airflow.py\n",
    "  \n",
    "#### airflow dag\n",
    "https://airflow-da.lab.karpov.courses/tree?dag_id=final_project_variant_2_a_sibiriakova_15_08"
   ]
  },
  {
   "cell_type": "markdown",
   "metadata": {},
   "source": [
    "***"
   ]
  },
  {
   "cell_type": "markdown",
   "metadata": {},
   "source": [
    "## Python"
   ]
  },
  {
   "cell_type": "markdown",
   "metadata": {},
   "source": [
    "&darr; импортируем необходимые библиотеки &darr;  "
   ]
  },
  {
   "cell_type": "code",
   "execution_count": 1,
   "metadata": {},
   "outputs": [],
   "source": [
    "import requests\n",
    "import pandas as pd\n",
    "\n",
    "import seaborn as sns\n",
    "import matplotlib.pyplot as plt"
   ]
  },
  {
   "cell_type": "markdown",
   "metadata": {},
   "source": [
    "#### Задание 1\n",
    "Реализуйте функцию, которая будет автоматически подгружать информацию из дополнительного файла groups_add.csv (заголовки могут отличаться) и на основании дополнительных параметров пересчитывать метрики."
   ]
  },
  {
   "cell_type": "markdown",
   "metadata": {},
   "source": [
    "***"
   ]
  },
  {
   "cell_type": "code",
   "execution_count": 2,
   "metadata": {},
   "outputs": [],
   "source": [
    "def get_update_data(groups_df, active_studs_df, checks_df):\n",
    "    \"\"\"функция, которая будет автоматически подгружает информацию \n",
    "    из дополнительного файла groups_add.csv (заголовки могут отличаться) \n",
    "    и на основании дополнительных параметров пересчитывает метрики\n",
    "    \"\"\"\n",
    "    \n",
    "    # на вход функции подаем датафреймы с имеющимися данными\n",
    "    \n",
    "    # загружаем дополнительные данные из файла\n",
    "    groups_add_df = pd.read_csv(get_csv_from_yandex('https://disk.yandex.ru/d/5Kxrz02m3IBUwQ')) \n",
    "    \n",
    "    # объединяем основной файл с пользователями с дополнительным\n",
    "    groups_all_df = groups_df.append(groups_add_df, ignore_index=False, verify_integrity=False, sort=None)\n",
    "    \n",
    "    # объединяем датафрейм с группами пользователей с датафреймами с активным пользователям и платящим пользователям\n",
    "    # датафрейм checks_df объединяем с датафреймом active_studs_df, чтобы были платежи только активных пользователей\n",
    "    data_all = groups_all_df \\\n",
    "        .merge(active_studs_df, how='left', left_on='id', right_on='student_id') \\\n",
    "        .merge(checks_df, how='left', left_on='student_id', right_on='student_id') \\\n",
    "        .rename(columns={'student_id_x': 'active_stud', 'student_id_y': 'paying_stud'})\n",
    "    \n",
    "    # группируем пользователей по группам и считаем число всех, активных и платящих, и сумму дохода в каждой группе\n",
    "    # последней строчкой удаляем мультииндекс\n",
    "    metrics_df = data_all \\\n",
    "        .groupby('grp', as_index=False) \\\n",
    "        .agg({'id': [('all_stud', 'count')], \n",
    "              'student_id': [('active_stud', 'count')], \n",
    "              'rev': [('paying_stud', 'count'), ('revenue', 'sum')]}) \\\n",
    "        .droplevel(0, axis=1)\n",
    "    \n",
    "    # переименовываем первый столбец, так как при удалении индекса потерялось его название\n",
    "    metrics_df = metrics_df.rename(columns={metrics_df.columns[0]: 'grp'})\n",
    "    \n",
    "    A_all_stud = metrics_df[(metrics_df.grp == 'A')]['all_stud']\n",
    "    B_all_stud = metrics_df[(metrics_df.grp == 'B')]['all_stud']\n",
    "    \n",
    "    A_active_stud = metrics_df[(metrics_df.grp == 'A')]['active_stud']\n",
    "    B_active_stud = metrics_df[(metrics_df.grp == 'B')]['active_stud']\n",
    "    \n",
    "    A_paying_stud = metrics_df[(metrics_df.grp == 'A')]['paying_stud']\n",
    "    B_paying_stud = metrics_df[(metrics_df.grp == 'B')]['paying_stud']\n",
    "    \n",
    "    A_revenue = metrics_df[(metrics_df.grp == 'A')]['revenue']\n",
    "    B_revenue = metrics_df[(metrics_df.grp == 'B')]['revenue']\n",
    "    \n",
    "    # считаем соотношение активных пользователей ко всем пользователям в группе\n",
    "    CR_A = round(A_active_stud / A_all_stud * 100, 2)\n",
    "    CR_B = round(B_active_stud / B_all_stud * 100, 2)\n",
    "    metrics_df['CR_AU'] = pd.Series([CR_A.values[0], CR_B.values[0]], index=[0, 1])\n",
    "    \n",
    "    # считаем соотношение платящих пользователей ко всем пользователям в группе\n",
    "    CR_A = round(A_paying_stud / A_all_stud * 100, 2)\n",
    "    CR_B = round(B_paying_stud / B_all_stud * 100, 2)\n",
    "    metrics_df['CR_PU'] = pd.Series([CR_A.values[0], CR_B.values[0]], index=[0, 1])\n",
    "    \n",
    "    # считаем соотношение платящих пользователей к активным\n",
    "    CR_A = round(A_paying_stud / A_active_stud * 100, 2)\n",
    "    CR_B = round(B_paying_stud / B_active_stud * 100, 2)\n",
    "    metrics_df['CR_AU_to_PU'] = pd.Series([CR_A.values[0], CR_B.values[0]], index=[0, 1])\n",
    "\n",
    "    # считаем отношение дохода к числу всех пользователей в группе\n",
    "    ARPU_A = round(A_revenue / A_all_stud, 2)\n",
    "    ARPU_B = round(B_revenue / B_all_stud, 2)\n",
    "    metrics_df['ARPU'] = pd.Series([ARPU_A.values[0], ARPU_B.values[0]], index=[0, 1])\n",
    "    \n",
    "    # считаем отношение дохода к числу активных пользователей\n",
    "    ARPAU_A = round(A_revenue / A_active_stud, 2)\n",
    "    ARPAU_B = round(B_revenue / B_active_stud, 2)\n",
    "    metrics_df['ARPAU'] = pd.Series([ARPAU_A.values[0], ARPAU_B.values[0]], index=[0, 1])\n",
    "    \n",
    "    # считаем отношение дохода к числу платящих пользователей\n",
    "    ARPPU_A = round(A_revenue / A_paying_stud, 2)\n",
    "    ARPPU_B = round(B_revenue / B_paying_stud, 2)\n",
    "    metrics_df['ARPPU'] = pd.Series([ARPPU_A.values[0], ARPPU_B.values[0]], index=[0, 1])\n",
    "\n",
    "    # возвращаем датафрейм с рассчитанными метриками\n",
    "    return (metrics_df)  "
   ]
  },
  {
   "cell_type": "markdown",
   "metadata": {},
   "source": [
    "***"
   ]
  },
  {
   "cell_type": "markdown",
   "metadata": {},
   "source": [
    "#### Задание 2\n",
    "Реализуйте функцию, которая будет строить графики по получаемым метрикам.\n",
    "\n",
    "Обновленные графики сохраняются локально в файлы  \n",
    "И потом эти графики высылаются телеграм ботом в чат"
   ]
  },
  {
   "cell_type": "markdown",
   "metadata": {},
   "source": [
    "***"
   ]
  },
  {
   "cell_type": "code",
   "execution_count": 1,
   "metadata": {},
   "outputs": [],
   "source": [
    "def get_grafics_of_metrics(metrics_df):\n",
    "    \"\"\" функция, которая строит графики по получаемым метрикам\n",
    "    Обновленные графики сохраняются локально в файлы\n",
    "    И эти графики высылаются телеграм ботом в чат   \n",
    "    \"\"\"\n",
    "    CR_data = metrics_df[['CR_AU', 'CR_PU', 'CR_AU_to_PU', 'grp']].melt(id_vars='grp', \n",
    "                                                                        value_name='value', \n",
    "                                                                        var_name='metrics')\n",
    "    \n",
    "    ARP_data = metrics_df[['ARPU', 'ARPAU', 'ARPPU', 'grp']].melt(id_vars='grp', \n",
    "                                                                  value_name='value', \n",
    "                                                                  var_name='metrics')\n",
    "    \n",
    "    sns.set(rc={'figure.figsize': (12, 6)}, style=\"white\")\n",
    "\n",
    "    # строим график\n",
    "    splot = sns.barplot(data=CR_data, x='value', y='metrics', hue='grp')\n",
    "    # подписываем бары на графике\n",
    "    for g in splot.patches:    \n",
    "        splot.annotate(format(g.get_width(), '.2f'),\n",
    "                       (g.get_width(), g.get_y() + g.get_height() / 2.),                   \n",
    "                       ha='center', va='center',                   \n",
    "                       xytext=(18, 0),                   \n",
    "                       textcoords='offset points',\n",
    "                       color='grey',\n",
    "                       fontweight='bold',\n",
    "                       fontsize=12)\n",
    "    # убираем границы\n",
    "    right_side = splot.spines[\"right\"]\n",
    "    right_side.set_visible(False)\n",
    "    top_side = splot.spines[\"top\"]\n",
    "    top_side.set_visible(False)\n",
    "    # подписываем сам график и оси\n",
    "    plt.title('\\nКонверсия в оплату\\n', fontsize=22)\n",
    "    plt.xlabel(\"Конверсия, %\", size=14)\n",
    "    plt.ylabel(\"Метрика\", size=14)\n",
    "\n",
    "    plt.savefig('CR.png')\n",
    "\n",
    "    plt.show()\n",
    "    plt.close()\n",
    "\n",
    "    # строим график\n",
    "    splot = sns.barplot(data=ARP_data, x='value', y='metrics', hue='grp')\n",
    "    # подписываем бары на графике\n",
    "    for g in splot.patches:    \n",
    "        splot.annotate(format(g.get_width(), '.0f'),\n",
    "                       (g.get_width(), g.get_y() + g.get_height() / 2.),                   \n",
    "                       ha='center', va='center',                   \n",
    "                       xytext=(16, 0),                   \n",
    "                       textcoords='offset points',\n",
    "                       color='grey',\n",
    "                       fontweight='bold',\n",
    "                       fontsize=12)\n",
    "    # убираем границы\n",
    "    right_side = splot.spines[\"right\"]\n",
    "    right_side.set_visible(False)\n",
    "    top_side = splot.spines[\"top\"]\n",
    "    top_side.set_visible(False)\n",
    "    # подписываем сам график и оси\n",
    "    plt.title('\\nСредний доход на 1 пользователя\\n', fontsize=22)\n",
    "    plt.xlabel(\"Средний доход\", size=14)\n",
    "    plt.ylabel(\"Метрика\\n\", size=14)\n",
    "\n",
    "    plt.savefig('ARPU_ARPAU_ARPPU.png')\n",
    "\n",
    "    plt.show()\n",
    "    plt.close()\n",
    "    \n",
    "    # отправка в телеграм бот\n",
    "    CHAT_ID = 344844265\n",
    "    BOT_TOKEN = '5789264690:AAE8L0uRRF1iiGCh-XxSKBeiltKTnvXI9AE'\n",
    "\n",
    "    message = 'Данные успешно обновлены. Лови обновленные графики'\n",
    "    if BOT_TOKEN != '':\n",
    "        params = {'chat_id': CHAT_ID, 'text': message}\n",
    "\n",
    "        base_url = f'https://api.telegram.org/bot{BOT_TOKEN}/'\n",
    "        url = base_url + 'sendMessage?' + urlencode(params)\n",
    "        requests.get(url)\n",
    "        \n",
    "        CR = {'photo': open('CR.png', 'rb')}\n",
    "        ARPU = {'photo': open('ARPU_ARPAU_ARPPU.png', 'rb')}\n",
    "        \n",
    "        url = f'{base_url}sendPhoto?chat_id={CHAT_ID}'\n",
    "        requests.post(url, files=CR)\n",
    "        requests.post(url, files=ARPU)"
   ]
  },
  {
   "cell_type": "markdown",
   "metadata": {},
   "source": [
    "***"
   ]
  },
  {
   "cell_type": "markdown",
   "metadata": {},
   "source": [
    "данные находятся по ссылке на Яндекс диске поэтому нужна предобработка коротких ссылок   \n",
    "&darr; эта функция &darr;  позволяет преобразовать короткую ссылку в понятный для пандас url для доступа к файлу"
   ]
  },
  {
   "cell_type": "code",
   "execution_count": 4,
   "metadata": {},
   "outputs": [],
   "source": [
    "# из интернета\n",
    "from urllib.parse import urlencode \n",
    " \n",
    "    \n",
    "def get_csv_from_yandex(link):    \n",
    "    # используем api \n",
    "    base_url = 'https://cloud-api.yandex.net/v1/disk/public/resources/download?' \n",
    "    \n",
    "    # получаем url \n",
    "    final_url = base_url + urlencode(dict(public_key=link)) \n",
    "    response = requests.get(final_url) \n",
    "    download_url = response.json()['href'] \n",
    "    \n",
    "    return download_url"
   ]
  },
  {
   "cell_type": "markdown",
   "metadata": {},
   "source": [
    "&darr; сохраняем короткие пути до файлов в переменные &darr; "
   ]
  },
  {
   "cell_type": "code",
   "execution_count": 5,
   "metadata": {},
   "outputs": [],
   "source": [
    "groups_link = 'https://disk.yandex.ru/d/UhyYx41rTt3clQ'\n",
    "active_studs_link = 'https://disk.yandex.ru/d/Tbs44Bm6H_FwFQ'\n",
    "checks_link = 'https://disk.yandex.ru/d/pH1q-VqcxXjsVA'"
   ]
  },
  {
   "cell_type": "markdown",
   "metadata": {},
   "source": [
    "&darr; загружаем данные в df &darr;"
   ]
  },
  {
   "cell_type": "code",
   "execution_count": 6,
   "metadata": {},
   "outputs": [],
   "source": [
    "groups_df = pd.read_csv(get_csv_from_yandex(groups_link), sep=';') \n",
    "active_studs_df = pd.read_csv(get_csv_from_yandex(active_studs_link))\n",
    "checks_df = pd.read_csv(get_csv_from_yandex(checks_link), sep=';')"
   ]
  },
  {
   "cell_type": "markdown",
   "metadata": {},
   "source": [
    "***"
   ]
  },
  {
   "cell_type": "markdown",
   "metadata": {},
   "source": [
    "#### Запускам функции\n",
    "Вызываем функции для обновления данных и отрисовки графиков  \n",
    "Обновленные графики будут высланы в телеграм-бот"
   ]
  },
  {
   "cell_type": "code",
   "execution_count": 7,
   "metadata": {},
   "outputs": [
    {
     "data": {
      "image/png": "[encoded data removed]",
      "text/plain": [
       "<Figure size 864x432 with 1 Axes>"
      ]
     },
     "metadata": {},
     "output_type": "display_data"
    },
    {
     "data": {
      "image/png": "[encoded data removed]",
      "text/plain": [
       "<Figure size 864x432 with 1 Axes>"
      ]
     },
     "metadata": {},
     "output_type": "display_data"
    }
   ],
   "source": [
    "get_grafics_of_metrics(get_update_data(groups_df, active_studs_df, checks_df))"
   ]
  }
 ],
 "metadata": {
  "kernelspec": {
   "display_name": "Python 3",
   "language": "python",
   "name": "python3"
  },
  "language_info": {
   "codemirror_mode": {
    "name": "ipython",
    "version": 3
   },
   "file_extension": ".py",
   "mimetype": "text/x-python",
   "name": "python",
   "nbconvert_exporter": "python",
   "pygments_lexer": "ipython3",
   "version": "3.7.3"
  }
 },
 "nbformat": 4,
 "nbformat_minor": 4
}
