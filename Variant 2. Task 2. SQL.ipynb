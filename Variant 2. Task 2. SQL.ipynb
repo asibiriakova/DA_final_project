{
 "cells": [
  {
   "attachments": {},
   "cell_type": "markdown",
   "metadata": {},
   "source": [
    "# Финальный проект: вариант 2\n",
    "## Задание 2. SQL\n",
    "##  Anastasiia Sibiriakova (a_sibiriakova)\n",
    "###  Поток 15.08"
   ]
  },
  {
   "attachments": {},
   "cell_type": "markdown",
   "metadata": {},
   "source": [
    "###  С корректировкой от 31.01.2023"
   ]
  },
  {
   "cell_type": "code",
   "execution_count": 3,
   "metadata": {},
   "outputs": [],
   "source": [
    "import pandahouse as ph"
   ]
  },
  {
   "cell_type": "code",
   "execution_count": 4,
   "metadata": {},
   "outputs": [],
   "source": [
    "connection = dict(database='default',\n",
    "                  host='http://clickhouse.lab.karpov.courses:80',\n",
    "                  user='student',\n",
    "                  password='dpo_python_2020')"
   ]
  },
  {
   "attachments": {},
   "cell_type": "markdown",
   "metadata": {},
   "source": [
    "***"
   ]
  },
  {
   "attachments": {},
   "cell_type": "markdown",
   "metadata": {},
   "source": [
    "### 2.1 Очень усердные ученики\n",
    "Образовательные курсы состоят из различных уроков, каждый из которых состоит из нескольких маленьких заданий. Каждое такое маленькое задание называется \"горошиной\".\n",
    "\n",
    "Назовём очень усердным учеником того пользователя, который хотя бы раз за текущий месяц правильно решил 20 горошин.\n",
    "\n",
    "Необходимо написать оптимальный запрос, который даст информацию о количестве очень усердных студентов.\n",
    "\n",
    "NB! Под очень усердным студентом мы понимаем студента, который правильно решил 20 задач за текущий месяц."
   ]
  },
  {
   "attachments": {},
   "cell_type": "markdown",
   "metadata": {},
   "source": [
    "#### Решение\n",
    "В переменную max_date сохраняем запрос с выбором максимальной даты  \n",
    "    - with max_date as ( select toStartOfMonth(max(timest)) as max_date from default.peas )\n",
    "Делаем запрос с выборкой \n",
    "    - select st_id, sum(correct) as count_correct_peas  from default.peas\n",
    "с условием по максимальной дате из переменной max_date \n",
    "    - where toStartOfMonth(timest) = (select max_date from max_date)  \n",
    "и группировкой по st_id \n",
    "    - group by st_id\n",
    "на сгруппированные данные накладываем условие \n",
    "    - having count_correct_peas >= 20\n",
    "оборачиваем это в подзапрос и считаем количество\n",
    "    - select count(st_id) as count_best_students from ( подзапрос ) as best_students"
   ]
  },
  {
   "cell_type": "code",
   "execution_count": 5,
   "metadata": {},
   "outputs": [],
   "source": [
    "query_task1 = ' with max_date as ' \\\n",
    "    ' ( select toStartOfMonth(max(timest)) as max_date from default.peas ) ' \\\n",
    "    ' select count(st_id) as count_best_students from ' \\\n",
    "    ' ( ' \\\n",
    "    ' select st_id, sum(correct) as count_correct_peas  from default.peas' \\\n",
    "    ' where toStartOfMonth(timest) = (select max_date from max_date)' \\\n",
    "    ' group by st_id' \\\n",
    "    ' having count_correct_peas >= 20' \\\n",
    "    ' ) as best_students' "
   ]
  },
  {
   "cell_type": "code",
   "execution_count": 6,
   "metadata": {},
   "outputs": [
    {
     "data": {
      "text/html": [
       "<div>\n",
       "<style scoped>\n",
       "    .dataframe tbody tr th:only-of-type {\n",
       "        vertical-align: middle;\n",
       "    }\n",
       "\n",
       "    .dataframe tbody tr th {\n",
       "        vertical-align: top;\n",
       "    }\n",
       "\n",
       "    .dataframe thead th {\n",
       "        text-align: right;\n",
       "    }\n",
       "</style>\n",
       "<table border=\"1\" class=\"dataframe\">\n",
       "  <thead>\n",
       "    <tr style=\"text-align: right;\">\n",
       "      <th></th>\n",
       "      <th>count_best_students</th>\n",
       "    </tr>\n",
       "  </thead>\n",
       "  <tbody>\n",
       "    <tr>\n",
       "      <th>0</th>\n",
       "      <td>136</td>\n",
       "    </tr>\n",
       "  </tbody>\n",
       "</table>\n",
       "</div>"
      ],
      "text/plain": [
       "   count_best_students\n",
       "0                  136"
      ]
     },
     "execution_count": 6,
     "metadata": {},
     "output_type": "execute_result"
    }
   ],
   "source": [
    "df_task1 = ph.read_clickhouse(query_task1, connection=connection)\n",
    "df_task1.head()"
   ]
  },
  {
   "attachments": {},
   "cell_type": "markdown",
   "metadata": {},
   "source": [
    "***"
   ]
  },
  {
   "attachments": {},
   "cell_type": "markdown",
   "metadata": {},
   "source": [
    "### 2.2 Оптимизация воронки\n",
    "Образовательная платформа предлагает пройти студентам курсы по модели trial: студент может решить бесплатно лишь 30 горошин в день. Для неограниченного количества заданий в определенной дисциплине студенту необходимо приобрести полный доступ. Команда провела эксперимент, где был протестирован новый экран оплаты.\n",
    "\n",
    "Необходимо в одном запросе выгрузить следующую информацию о группах пользователей:\n",
    "\n",
    "- ARPU \n",
    "- ARPAU \n",
    "- CR в покупку \n",
    "- CR активного пользователя в покупку \n",
    "- CR пользователя из активности по математике (subject = ’math’) в покупку курса по математике\n",
    "- ARPU считается относительно всех пользователей, попавших в группы.\n",
    "\n",
    "Активным считается пользователь, за все время решивший больше 10 задач правильно в любых дисциплинах.\n",
    "\n",
    "Активным по математике считается пользователь, за все время решивший 2 или больше задач правильно по математике."
   ]
  },
  {
   "attachments": {},
   "cell_type": "markdown",
   "metadata": {},
   "source": [
    "#### Решение \n",
    "Чтобы посчитать для каждого студента количество верных горошин делаем запрос к таблице default.peas с группировкой по полю st_id     \n",
    "Считаем суммы sum(correct) по всем правильным ответам и по правильным ответам по математике, для этого используем фильтр с условием sum(correct) filter (where subject == 'Math')  \n",
    "В итоге получаем вот такой запрос:\n",
    "    - select  st_id, \n",
    "        sum(correct) as correct_all,\n",
    "        sum(correct) filter (where subject == 'Math') as correct_math \n",
    "      from default.peas \n",
    "      group by st_id \n",
    "Оборачиваем его в подзапрос, он нам пригодится\n",
    "    - as count_peas\n",
    "Объединяем таблицы с данными по студентам default.studs, наш подзапрос с количеством верных горошин count_peas и таблицу с данными по оплатам default.final_project_check методом left join объединяем по полю st_id  \n",
    "В итоге получаем вот такой запрос:\n",
    "    - select  default.studs.st_id as st_id, \n",
    "        test_grp, \n",
    "        correct_all, \n",
    "        correct_math, \n",
    "        subject, \n",
    "        sale_time, \n",
    "        money \n",
    "      from default.studs \n",
    "      left join \n",
    "      ( \n",
    "        select  st_id, \n",
    "          sum(correct) as correct_all,\n",
    "          sum(correct) filter (where subject == 'Math') as correct_math \n",
    "        from default.peas \n",
    "        group by st_id \n",
    "      ) as count_peas \n",
    "      on default.studs.st_id = count_peas.st_id \n",
    "      left join default.final_project_check \n",
    "      on default.studs.st_id = default.final_project_check.st_id \n",
    "Сохраняем все данные в переменную all_data  \n",
    "    - with all_data as \n",
    "                ( \n",
    "                  ...\n",
    "                ) \n",
    "\n",
    "Пишем запрос для расчета метрик к нашей таблице со всеми данными, сохраненной в переменную all_data, группируем по группе test_grp\n",
    "\n",
    "**ARPU** считаем как сумму всех оплат деленную на число уникальных студентов, так как студенты могут купить несколько курсов\n",
    "    - round(sum(money) / count(distinct st_id), 0)\n",
    "**ARPAU** считаем как сумму всех оплат деленную на число уникальных студентов с фильтром where correct_all > 10, так как по условию активным считается студент, за все время решивший больше 10 задач правильно в любых дисциплинах\n",
    "    - round(sum(money) / count(distinct st_id) filter (where correct_all > 10), 0)\n",
    "**CR** считаем как количество уникальных студентов с фильтром where money > 0, то есть платящие студенты, деленные на количество уникальных студентов в группе\n",
    "    - round(count(distinct st_id) filter (where money > 0) / count(distinct st_id), 2)\n",
    "**CR_active** считаем как количество уникальных студентов с фильтром where money > 0, то есть платящие студенты, деленные на количество уникальных активных студентов в группе с фильтром where correct_all > 10, так как по условию активным считается студент, за все время решивший больше 10 задач правильно в любых дисциплинах\n",
    "    - round(count(distinct st_id) filter (where money > 0) / count(distinct st_id) filter (where correct_all > 10), 2)\n",
    "**CR_math** считаем как количество уникальных студентов с фильтром where subject == 'Math', деленные на количество уникальных активных по математике студентов в группе с фильтром where correct_math >= 2, так как по условию активным по математике считается студент, за все время решивший 2 или больше задач правильно по математике\n",
    "    - round(count(distinct st_id) filter (where money > 0 and subject == 'Math') / count(distinct st_id) filter (where correct_math >= 2), 2)\n",
    "\n",
    "В итоге получаем вот такой запрос:\n",
    "    - select  test_grp,      \n",
    "        round(count(distinct st_id) filter (where money > 0) / count(distinct st_id), 2) as CR,   \n",
    "        round(count(distinct st_id) filter (where money > 0) / count(distinct st_id) filter (where correct_all > 10), 2) as CR_active,   \n",
    "        round(count(distinct st_id) filter (where money > 0 and subject == 'Math') / count(distinct st_id) filter (where correct_math >= 2), 2) as CR_math   \n",
    "      from all_data   \n",
    "      group by test_grp  "
   ]
  },
  {
   "cell_type": "code",
   "execution_count": 7,
   "metadata": {},
   "outputs": [],
   "source": [
    "query_task2 = ' with all_data as' \\\n",
    "    ' (' \\\n",
    "    ' select  default.studs.st_id as st_id,' \\\n",
    "    ' test_grp,' \\\n",
    "    ' correct_all,' \\\n",
    "    ' correct_math,' \\\n",
    "    ' subject,' \\\n",
    "    ' sale_time,' \\\n",
    "    ' money' \\\n",
    "    ' from default.studs' \\\n",
    "    ' left join' \\\n",
    "    ' (' \\\n",
    "    ' select  st_id,' \\\n",
    "    ' sum(correct) as correct_all,' \\\n",
    "    ' sum(correct) filter (where subject == \\'Math\\') as correct_math' \\\n",
    "    ' from default.peas' \\\n",
    "    ' group by st_id' \\\n",
    "    ' ) as count_peas' \\\n",
    "    ' on default.studs.st_id = count_peas.st_id' \\\n",
    "    ' left join default.final_project_check' \\\n",
    "    ' on default.studs.st_id = default.final_project_check.st_id' \\\n",
    "    ' )' \\\n",
    "    ' select  test_grp,' \\\n",
    "    ' round(sum(money) / count(distinct st_id), 0) as ARPU,' \\\n",
    "    ' round(sum(money) / count(distinct st_id) filter (where correct_all > 10), 0) as ARPAU,' \\\n",
    "    ' round(count(distinct st_id) filter (where money > 0) / count(distinct st_id), 2) as CR,' \\\n",
    "    ' round(count(distinct st_id) filter (where money > 0) / count(distinct st_id) ' \\\n",
    "    ' filter (where correct_all > 10), 2) as CR_active,' \\\n",
    "    ' round(count(distinct st_id) filter (where money > 0 and subject == \\'Math\\') / count(distinct st_id) ' \\\n",
    "    ' filter (where correct_math >= 2), 2) as CR_math' \\\n",
    "    ' from all_data' \\\n",
    "    ' group by test_grp' "
   ]
  },
  {
   "cell_type": "code",
   "execution_count": 8,
   "metadata": {},
   "outputs": [
    {
     "data": {
      "text/html": [
       "<div>\n",
       "<style scoped>\n",
       "    .dataframe tbody tr th:only-of-type {\n",
       "        vertical-align: middle;\n",
       "    }\n",
       "\n",
       "    .dataframe tbody tr th {\n",
       "        vertical-align: top;\n",
       "    }\n",
       "\n",
       "    .dataframe thead th {\n",
       "        text-align: right;\n",
       "    }\n",
       "</style>\n",
       "<table border=\"1\" class=\"dataframe\">\n",
       "  <thead>\n",
       "    <tr style=\"text-align: right;\">\n",
       "      <th></th>\n",
       "      <th>test_grp</th>\n",
       "      <th>ARPU</th>\n",
       "      <th>ARPAU</th>\n",
       "      <th>CR</th>\n",
       "      <th>CR_active</th>\n",
       "      <th>CR_math</th>\n",
       "    </tr>\n",
       "  </thead>\n",
       "  <tbody>\n",
       "    <tr>\n",
       "      <th>0</th>\n",
       "      <td>control</td>\n",
       "      <td>4541.0</td>\n",
       "      <td>10906.0</td>\n",
       "      <td>0.05</td>\n",
       "      <td>0.12</td>\n",
       "      <td>0.16</td>\n",
       "    </tr>\n",
       "    <tr>\n",
       "      <th>1</th>\n",
       "      <td>pilot</td>\n",
       "      <td>11508.0</td>\n",
       "      <td>35365.0</td>\n",
       "      <td>0.11</td>\n",
       "      <td>0.33</td>\n",
       "      <td>0.38</td>\n",
       "    </tr>\n",
       "  </tbody>\n",
       "</table>\n",
       "</div>"
      ],
      "text/plain": [
       "  test_grp     ARPU    ARPAU    CR  CR_active  CR_math\n",
       "0  control   4541.0  10906.0  0.05       0.12     0.16\n",
       "1    pilot  11508.0  35365.0  0.11       0.33     0.38"
      ]
     },
     "execution_count": 8,
     "metadata": {},
     "output_type": "execute_result"
    }
   ],
   "source": [
    "df_task2 = ph.read_clickhouse(query_task2, connection=connection)\n",
    "df_task2.head()"
   ]
  },
  {
   "attachments": {},
   "cell_type": "markdown",
   "metadata": {},
   "source": [
    "***"
   ]
  },
  {
   "attachments": {},
   "cell_type": "markdown",
   "metadata": {},
   "source": [
    "### 2.2 Оптимизация воронки\n",
    "### Корректировка"
   ]
  },
  {
   "attachments": {},
   "cell_type": "markdown",
   "metadata": {},
   "source": [
    "Добавила фильтр в обе части уравнения"
   ]
  },
  {
   "cell_type": "code",
   "execution_count": 9,
   "metadata": {},
   "outputs": [],
   "source": [
    "query_task2_corr = ' with all_data as' \\\n",
    "    ' (' \\\n",
    "    ' select  default.studs.st_id as st_id,' \\\n",
    "    ' test_grp,' \\\n",
    "    ' correct_all,' \\\n",
    "    ' correct_math,' \\\n",
    "    ' subject,' \\\n",
    "    ' sale_time,' \\\n",
    "    ' money' \\\n",
    "    ' from default.studs' \\\n",
    "    ' left join' \\\n",
    "    ' (' \\\n",
    "    ' select  st_id,' \\\n",
    "    ' sum(correct) as correct_all,' \\\n",
    "    ' sum(correct) filter (where subject == \\'Math\\') as correct_math' \\\n",
    "    ' from default.peas' \\\n",
    "    ' group by st_id' \\\n",
    "    ' ) as count_peas' \\\n",
    "    ' on default.studs.st_id = count_peas.st_id' \\\n",
    "    ' left join default.final_project_check' \\\n",
    "    ' on default.studs.st_id = default.final_project_check.st_id' \\\n",
    "    ' )' \\\n",
    "    ' select  test_grp,' \\\n",
    "    ' round(sum(money) / count(distinct st_id), 0) as ARPU,' \\\n",
    "    ' round(sum(money) filter (where correct_all > 10) / ' \\\n",
    "    ' count(distinct st_id) filter (where correct_all > 10), 0) as ARPAU,' \\\n",
    "    ' round(count(distinct st_id) filter (where money > 0) / count(distinct st_id), 2) as CR,' \\\n",
    "    ' round(count(distinct st_id) filter (where money > 0 and correct_all > 10) / count(distinct st_id) ' \\\n",
    "    ' filter (where correct_all > 10), 2) as CR_active,' \\\n",
    "    ' round(count(distinct st_id) filter (where money > 0 and subject == \\'Math\\' and correct_math >= 2) ' \\\n",
    "    ' / count(distinct st_id) ' \\\n",
    "    ' filter (where correct_math >= 2), 2) as CR_math' \\\n",
    "    ' from all_data' \\\n",
    "    ' group by test_grp' "
   ]
  },
  {
   "cell_type": "code",
   "execution_count": 10,
   "metadata": {},
   "outputs": [
    {
     "data": {
      "text/html": [
       "<div>\n",
       "<style scoped>\n",
       "    .dataframe tbody tr th:only-of-type {\n",
       "        vertical-align: middle;\n",
       "    }\n",
       "\n",
       "    .dataframe tbody tr th {\n",
       "        vertical-align: top;\n",
       "    }\n",
       "\n",
       "    .dataframe thead th {\n",
       "        text-align: right;\n",
       "    }\n",
       "</style>\n",
       "<table border=\"1\" class=\"dataframe\">\n",
       "  <thead>\n",
       "    <tr style=\"text-align: right;\">\n",
       "      <th></th>\n",
       "      <th>test_grp</th>\n",
       "      <th>ARPU</th>\n",
       "      <th>ARPAU</th>\n",
       "      <th>CR</th>\n",
       "      <th>CR_active</th>\n",
       "      <th>CR_math</th>\n",
       "    </tr>\n",
       "  </thead>\n",
       "  <tbody>\n",
       "    <tr>\n",
       "      <th>0</th>\n",
       "      <td>control</td>\n",
       "      <td>4541.0</td>\n",
       "      <td>10394.0</td>\n",
       "      <td>0.05</td>\n",
       "      <td>0.11</td>\n",
       "      <td>0.06</td>\n",
       "    </tr>\n",
       "    <tr>\n",
       "      <th>1</th>\n",
       "      <td>pilot</td>\n",
       "      <td>11508.0</td>\n",
       "      <td>29740.0</td>\n",
       "      <td>0.11</td>\n",
       "      <td>0.26</td>\n",
       "      <td>0.10</td>\n",
       "    </tr>\n",
       "  </tbody>\n",
       "</table>\n",
       "</div>"
      ],
      "text/plain": [
       "  test_grp     ARPU    ARPAU    CR  CR_active  CR_math\n",
       "0  control   4541.0  10394.0  0.05       0.11     0.06\n",
       "1    pilot  11508.0  29740.0  0.11       0.26     0.10"
      ]
     },
     "execution_count": 10,
     "metadata": {},
     "output_type": "execute_result"
    }
   ],
   "source": [
    "df_task2_corr = ph.read_clickhouse(query_task2_corr, connection=connection)\n",
    "df_task2_corr.head()"
   ]
  },
  {
   "attachments": {},
   "cell_type": "markdown",
   "metadata": {},
   "source": [
    "***"
   ]
  },
  {
   "attachments": {},
   "cell_type": "markdown",
   "metadata": {},
   "source": [
    "### 2.1 Очень усердные ученики. Код запроса, чтобы вставить в Clickhouse"
   ]
  },
  {
   "attachments": {},
   "cell_type": "markdown",
   "metadata": {},
   "source": [
    "with max_date as   \n",
    "( select toStartOfMonth(max(timest)) as max_date from default.peas )   \n",
    "   \n",
    "select count(st_id) as count_best_students from    \n",
    "(   \n",
    "    select st_id, sum(correct) as count_correct_peas  from default.peas  \n",
    "    where toStartOfMonth(timest) = (select max_date from max_date)  \n",
    "    group by st_id   \n",
    "    having count_correct_peas >= 20   \n",
    ") as best_students   "
   ]
  },
  {
   "attachments": {},
   "cell_type": "markdown",
   "metadata": {},
   "source": [
    "### 2.2 Оптимизация воронки. Код запроса, чтобы вставить в Clickhouse"
   ]
  },
  {
   "attachments": {},
   "cell_type": "markdown",
   "metadata": {},
   "source": [
    "with all_data as (  \n",
    "    select  default.studs.st_id as st_id,   \n",
    "            test_grp,   \n",
    "            correct_all,   \n",
    "            correct_math,   \n",
    "            subject,   \n",
    "            sale_time,   \n",
    "            money  \n",
    "    from default.studs   \n",
    "    left join   \n",
    "    (   \n",
    "        select  st_id,   \n",
    "                sum(correct) as correct_all,   \n",
    "                sum(correct) filter (where subject == 'Math') as correct_math   \n",
    "        from default.peas   \n",
    "        group by st_id   \n",
    "    ) as count_peas   \n",
    "    on default.studs.st_id = count_peas.st_id   \n",
    "    left join default.final_project_check   \n",
    "    on default.studs.st_id = default.final_project_check.st_id   \n",
    ")   \n",
    "   \n",
    "select  test_grp,   \n",
    "        round(sum(money) / count(distinct st_id), 0) as ARPU,   \n",
    "        round(sum(money) / count(distinct st_id) filter (where correct_all > 10), 0) as ARPAU,   \n",
    "        round(count(distinct st_id) filter (where money > 0) / count(distinct st_id), 2) as CR,   \n",
    "        round(count(distinct st_id) filter (where money > 0) / count(distinct st_id) filter (where correct_all > 10), 2) as CR_active,   \n",
    "        round(count(distinct st_id) filter (where money > 0 and subject == 'Math') / count(distinct st_id) filter (where correct_math >= 2), 2) as CR_math   \n",
    "from all_data   \n",
    "group by test_grp   "
   ]
  },
  {
   "attachments": {},
   "cell_type": "markdown",
   "metadata": {},
   "source": [
    "### 2.2 Оптимизация воронки. Код запроса, чтобы вставить в Clickhouse\n",
    "### Корректировка"
   ]
  },
  {
   "attachments": {},
   "cell_type": "markdown",
   "metadata": {},
   "source": [
    "with all_data as (  \n",
    "    select  default.studs.st_id as st_id,   \n",
    "            test_grp,   \n",
    "            correct_all, \n",
    "            correct_math,   \n",
    "            subject,   \n",
    "            sale_time,   \n",
    "            money  \n",
    "    from default.studs   \n",
    "    left join   \n",
    "    (   \n",
    "        select  st_id,   \n",
    "                sum(correct) as correct_all,   \n",
    "                sum(correct) filter (where subject == 'Math') as correct_math   \n",
    "        from default.peas   \n",
    "        group by st_id   \n",
    "    ) as count_peas   \n",
    "    on default.studs.st_id = count_peas.st_id\n",
    "    left join default.final_project_check   \n",
    "    on default.studs.st_id = default.final_project_check.st_id   \n",
    ")\n",
    "   \n",
    "select  test_grp,   \n",
    "        round(sum(money) / count(distinct st_id), 0) as ARPU,   \n",
    "        round(sum(money) filter (where correct_all > 10) / count(distinct st_id) filter (where correct_all > 10), 0) as ARPAU,    \n",
    "        round(count(distinct st_id) filter (where money > 0) / count(distinct st_id), 2) as CR,   \n",
    "        round(count(distinct st_id) filter (where money > 0 and where correct_all > 10) / count(distinct st_id) filter (where correct_all > 10), 2) as CR_active,    \n",
    "        round(count(distinct st_id) filter (where money > 0 and subject == 'Math' and correct_math >= 2) / count(distinct st_id) filter (where correct_math >= 2), 2) as CR_math   \n",
    "from all_data   \n",
    "group by test_grp"
   ]
  },
  {
   "attachments": {},
   "cell_type": "markdown",
   "metadata": {},
   "source": []
  }
 ],
 "metadata": {
  "kernelspec": {
   "display_name": "Python 3",
   "language": "python",
   "name": "python3"
  },
  "language_info": {
   "codemirror_mode": {
    "name": "ipython",
    "version": 3
   },
   "file_extension": ".py",
   "mimetype": "text/x-python",
   "name": "python",
   "nbconvert_exporter": "python",
   "pygments_lexer": "ipython3",
   "version": "3.11.3"
  }
 },
 "nbformat": 4,
 "nbformat_minor": 4
}
